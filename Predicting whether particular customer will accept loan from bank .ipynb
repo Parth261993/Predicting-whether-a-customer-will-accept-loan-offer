{
 "cells": [
  {
   "cell_type": "code",
   "execution_count": null,
   "id": "8e079e6e",
   "metadata": {},
   "outputs": [],
   "source": [
    "import numpy as np\n",
    "import pandas as pd\n",
    "import matplotlib.pylab as plt\n",
    "\n",
    "from sklearn import preprocessing\n",
    "from sklearn.impute import KNNImputer\n",
    "from sklearn.model_selection import train_test_split\n",
    "from sklearn.linear_model import LogisticRegression\n",
    "from sklearn.neighbors import KNeighborsClassifier\n",
    "from sklearn.metrics import f1_score, accuracy_score, confusion_matrix, classification_report"
   ]
  },
  {
   "cell_type": "code",
   "execution_count": null,
   "id": "431a518c",
   "metadata": {},
   "outputs": [],
   "source": [
    "%matplotlib inline"
   ]
  },
  {
   "cell_type": "markdown",
   "id": "b74a1d3b",
   "metadata": {},
   "source": [
    "## Part 1: Data exploration and preprocessing"
   ]
  },
  {
   "cell_type": "code",
   "execution_count": null,
   "id": "1c9a2157",
   "metadata": {},
   "outputs": [],
   "source": [
    "# impute NA values with k-NN imputer \n",
    "# in the code below, be sure you change \"predictors_df\" if you use a different name for your predictors DataFrame\n",
    "\n",
    "imputer = KNNImputer(n_neighbors=5)\n",
    "predictors_df = pd.DataFrame(imputer.fit_transform(predictors_df), columns = predictors_df.columns)\n",
    "predictors_df"
   ]
  },
  {
   "cell_type": "markdown",
   "id": "0ece8801",
   "metadata": {},
   "source": [
    "## Part 2: $k$-NN"
   ]
  },
  {
   "cell_type": "code",
   "execution_count": null,
   "id": "ad73927e",
   "metadata": {},
   "outputs": [],
   "source": []
  },
  {
   "cell_type": "markdown",
   "id": "f201ea59",
   "metadata": {},
   "source": [
    "## Part 3: Logistic regression and model comparison"
   ]
  },
  {
   "cell_type": "code",
   "execution_count": null,
   "id": "1522b40d",
   "metadata": {},
   "outputs": [],
   "source": []
  }
 ],
 "metadata": {
  "kernelspec": {
   "display_name": "Python 3 (ipykernel)",
   "language": "python",
   "name": "python3"
  },
  "language_info": {
   "codemirror_mode": {
    "name": "ipython",
    "version": 3
   },
   "file_extension": ".py",
   "mimetype": "text/x-python",
   "name": "python",
   "nbconvert_exporter": "python",
   "pygments_lexer": "ipython3",
   "version": "3.9.12"
  }
 },
 "nbformat": 4,
 "nbformat_minor": 5
}
